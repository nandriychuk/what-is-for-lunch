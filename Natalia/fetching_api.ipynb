{
 "cells": [
  {
   "cell_type": "code",
   "execution_count": 2,
   "metadata": {},
   "outputs": [],
   "source": [
    "import csv\n",
    "import matplotlib.pyplot as plt\n",
    "import requests\n",
    "import pandas as pd\n",
    "from config import API_KEY\n",
    "from pprint import pprint\n"
   ]
  },
  {
   "cell_type": "code",
   "execution_count": 26,
   "metadata": {},
   "outputs": [],
   "source": [
    "query_url = f\"https://api.nal.usda.gov/ndb/V2/reports?ndbno=11011&ndbno=11080&ndbno=11090&type=b&format=json&api_key={API_KEY}\""
   ]
  },
  {
   "cell_type": "code",
   "execution_count": 3,
   "metadata": {},
   "outputs": [],
   "source": [
    "vegetables = \"ndbno=11011&ndbno=11080&ndbno=11090&ndbno=11109&ndbno=11124&ndbno=11135&ndbno=11143&\\\n",
    "            ndbno=11167&ndbno=11205&ndbno=11210\"\n",
    "vegetables2 = \"ndbno=11238&ndbno=11248&ndbno=11253&ndbno=11294&ndbno=11304&ndbno=11333&ndbno=11357&ndbno=11484&ndbno=11695&\\\n",
    "            ndbno=11959&ndbno=11932&ndbno=11705&ndbno=11215&ndbno=11233&ndbno=11007\""
   ]
  },
  {
   "cell_type": "code",
   "execution_count": 4,
   "metadata": {},
   "outputs": [],
   "source": [
    "query_url = f\"https://api.nal.usda.gov/ndb/V2/reports?{vegetables}{vegetables2}&type=b&format=json&api_key={API_KEY}\"\n",
    "# print(query_url)"
   ]
  },
  {
   "cell_type": "code",
   "execution_count": 5,
   "metadata": {},
   "outputs": [],
   "source": [
    "response = requests.get(query_url)\n",
    "response_json = response.json()\n",
    "# pprint(response_json)\n",
    "\n"
   ]
  },
  {
   "cell_type": "code",
   "execution_count": 6,
   "metadata": {},
   "outputs": [],
   "source": [
    "# create empty list\n",
    "food_items = []\n"
   ]
  },
  {
   "cell_type": "code",
   "execution_count": 322,
   "metadata": {},
   "outputs": [
    {
     "name": "stdout",
     "output_type": "stream",
     "text": [
      "No food:(\n"
     ]
    }
   ],
   "source": [
    "# creating record for one record per food\n",
    "\n",
    "# foods = response_json['foods']\n",
    "\n",
    "# for food in foods:\n",
    "# #     print(food['food']['nutrients'])\n",
    "#     food_item = {\n",
    "#         'name': 'name of the food',\n",
    "#         'units': '',\n",
    "#         'values': ''\n",
    "#     }\n",
    "#     try:\n",
    "#         food_item['name'] = food['food']['desc']['name']\n",
    "#         i = 0\n",
    "#         for nutrient in food['food']['nutrients']:\n",
    "#             i = i + 1\n",
    "#             nutrient_name = nutrient['name']\n",
    "#             nutrient_value = nutrient['value']\n",
    "#             food_item[nutrient_name] = nutrient_value\n",
    "#             if i > 7:\n",
    "#                 break\n",
    "#         food_items.append(food_item)\n",
    "#     except:\n",
    "#         print(\"No food:(\")"
   ]
  },
  {
   "cell_type": "code",
   "execution_count": 328,
   "metadata": {},
   "outputs": [],
   "source": [
    "food_items = []"
   ]
  },
  {
   "cell_type": "code",
   "execution_count": 7,
   "metadata": {},
   "outputs": [
    {
     "name": "stdout",
     "output_type": "stream",
     "text": [
      "No food:(\n"
     ]
    }
   ],
   "source": [
    "# creating output for one record per nutrient per food\n",
    "foods = response_json['foods']\n",
    "\n",
    "for food in foods:        \n",
    "    try:\n",
    "\n",
    "        i = 0\n",
    "        for nutrient in food['food']['nutrients']:\n",
    "            food_item = {}\n",
    "            food_item['name'] = food['food']['desc']['name']\n",
    "\n",
    "            nutrient_name = nutrient['name']\n",
    "            nutrient_value = nutrient['value']\n",
    "            nutrient_unit = nutrient['unit']\n",
    "\n",
    "            food_item['nutrient'] = nutrient_name\n",
    "            food_item['value'] = nutrient_value\n",
    "            food_item['unit'] = nutrient_unit\n",
    "\n",
    "            food_items.append(food_item)\n",
    "\n",
    "            i = i + 1\n",
    "            if i > 6:\n",
    "                break\n",
    "    \n",
    "    except:\n",
    "        print(\"No food:(\")\n",
    "        \n",
    "    "
   ]
  },
  {
   "cell_type": "code",
   "execution_count": 9,
   "metadata": {},
   "outputs": [],
   "source": [
    "\n",
    "# food_items\n"
   ]
  },
  {
   "cell_type": "code",
   "execution_count": 335,
   "metadata": {},
   "outputs": [
    {
     "data": {
      "text/plain": [
       "'Beets, raw'"
      ]
     },
     "execution_count": 335,
     "metadata": {},
     "output_type": "execute_result"
    }
   ],
   "source": [
    "response_json[\"foods\"][1][\"food\"][\"desc\"][\"name\"]\n",
    "# response_json[\"foods\"][0][\"food\"][\"nutrients\"][2][\"name\"]\n",
    "# response_json[\"foods\"][0][\"food\"][\"nutrients\"][3][\"unit\"]\n",
    "# response_json[\"foods\"][0][\"food\"][\"nutrients\"][0][\"value\"]"
   ]
  }
 ],
 "metadata": {
  "kernelspec": {
   "display_name": "Python 3",
   "language": "python",
   "name": "python3"
  },
  "language_info": {
   "codemirror_mode": {
    "name": "ipython",
    "version": 3
   },
   "file_extension": ".py",
   "mimetype": "text/x-python",
   "name": "python",
   "nbconvert_exporter": "python",
   "pygments_lexer": "ipython3",
   "version": "3.6.6"
  }
 },
 "nbformat": 4,
 "nbformat_minor": 2
}
