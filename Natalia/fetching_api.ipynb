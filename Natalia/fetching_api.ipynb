{
 "cells": [
  {
   "cell_type": "code",
   "execution_count": 31,
   "metadata": {},
   "outputs": [],
   "source": [
    "import requests\n",
    "import pandas as pd\n",
    "from config import API_KEY\n",
    "from pprint import pprint\n"
   ]
  },
  {
   "cell_type": "code",
   "execution_count": 26,
   "metadata": {},
   "outputs": [],
   "source": [
    "# query_url = f\"https://api.nal.usda.gov/ndb/V2/reports?ndbno=11011&ndbno=11080&ndbno=11090&type=b&format=json&api_key={API_KEY}\""
   ]
  },
  {
   "cell_type": "code",
   "execution_count": 32,
   "metadata": {},
   "outputs": [],
   "source": [
    "# vegetables urls\n",
    "vegetables1 = \"ndbno=11011&ndbno=11080&ndbno=11090&ndbno=11109&ndbno=11124&ndbno=11135&ndbno=11143&\\\n",
    "            ndbno=11167&ndbno=11205&ndbno=11210\"\n",
    "vegetables2 = \"&ndbno=11238&ndbno=11248&ndbno=11253&ndbno=11294&ndbno=11304&ndbno=11333&ndbno=11357&ndbno=11484&ndbno=11695&\\\n",
    "            ndbno=11959&ndbno=11932&ndbno=11705&ndbno=11215&ndbno=11233&ndbno=11007\""
   ]
  },
  {
   "cell_type": "code",
   "execution_count": 33,
   "metadata": {},
   "outputs": [],
   "source": [
    "vegetables_query_url = f\"https://api.nal.usda.gov/ndb/V2/reports?{vegetables1}{vegetables2}&type=b&format=json&api_key={API_KEY}\"\n",
    "# print(vegetables_query_url)"
   ]
  },
  {
   "cell_type": "code",
   "execution_count": 34,
   "metadata": {},
   "outputs": [],
   "source": [
    "response = requests.get(vegetables_query_url)\n",
    "response_json = response.json()\n",
    "# pprint(response_json)\n",
    "\n"
   ]
  },
  {
   "cell_type": "code",
   "execution_count": 35,
   "metadata": {},
   "outputs": [],
   "source": [
    "# create empty list\n",
    "food_items = []\n"
   ]
  },
  {
   "cell_type": "code",
   "execution_count": 322,
   "metadata": {},
   "outputs": [
    {
     "name": "stdout",
     "output_type": "stream",
     "text": [
      "No food:(\n"
     ]
    }
   ],
   "source": [
    "# creating record for one record per food\n",
    "\n",
    "# foods = response_json['foods']\n",
    "\n",
    "# for food in foods:\n",
    "# #     print(food['food']['nutrients'])\n",
    "#     food_item = {\n",
    "#         'name': 'name of the food',\n",
    "#         'units': '',\n",
    "#         'values': ''\n",
    "#     }\n",
    "#     try:\n",
    "#         food_item['name'] = food['food']['desc']['name']\n",
    "#         i = 0\n",
    "#         for nutrient in food['food']['nutrients']:\n",
    "#             i = i + 1\n",
    "#             nutrient_name = nutrient['name']\n",
    "#             nutrient_value = nutrient['value']\n",
    "#             food_item[nutrient_name] = nutrient_value\n",
    "#             if i > 7:\n",
    "#                 break\n",
    "#         food_items.append(food_item)\n",
    "#     except:\n",
    "#         print(\"No food:(\")"
   ]
  },
  {
   "cell_type": "code",
   "execution_count": null,
   "metadata": {},
   "outputs": [],
   "source": [
    "# creating output for one record per nutrient per food \n",
    "##DO NOT TOUCH\n",
    "# foods = response_json['foods']\n",
    "\n",
    "# for food in foods:        \n",
    "#     try:\n",
    "\n",
    "#         i = 0\n",
    "#         for nutrient in food['food']['nutrients']:\n",
    "#             food_item = {}\n",
    "#             food_item['category'] = \"Vegetables\"\n",
    "#             food_item['name'] = food['food']['desc']['name']\n",
    "#             food_item['id'] = food['food']['desc']['ndbno']\n",
    "\n",
    "#             nutrient_name = nutrient['name']\n",
    "#             nutrient_value = nutrient['value']\n",
    "#             nutrient_unit = nutrient['unit']\n",
    "\n",
    "#             food_item['nutrient'] = nutrient_name\n",
    "#             food_item['value'] = nutrient_value\n",
    "#             food_item['unit'] = nutrient_unit\n",
    "\n",
    "#             food_items.append(food_item)\n",
    "\n",
    "#             i = i + 1\n",
    "#             if i > 6:\n",
    "#                 break\n",
    "    \n",
    "#     except:\n",
    "#         print(\"No food:(\")\n",
    "        "
   ]
  },
  {
   "cell_type": "code",
   "execution_count": 158,
   "metadata": {},
   "outputs": [],
   "source": [
    "food_items = []"
   ]
  },
  {
   "cell_type": "code",
   "execution_count": 38,
   "metadata": {},
   "outputs": [],
   "source": [
    "# creating lists for different categories so that they can be referenced later in the database\n",
    "# creating output for one record per nutrient per food - VEGETABLES\n",
    "\n",
    "foods = response_json['foods']\n",
    "\n",
    "#looping through vegetables to extract nutrient information we need\n",
    "for vegetable in foods:\n",
    "\n",
    "    try:\n",
    "\n",
    "        i = 0\n",
    "        for nutrient in vegetable['food']['nutrients']:\n",
    "\n",
    "            # creating dictionary for each nutrient\n",
    "            vegetable_item = {}\n",
    "            vegetable_item['category'] = \"Vegetables\"\n",
    "            vegetable_item['name'] = vegetable['food']['desc']['name']\n",
    "            vegetable_item['id'] = vegetable['food']['desc']['ndbno']\n",
    "\n",
    "            vegetable_nutrient_name = nutrient['name']\n",
    "            vegetable_nutrient_value = nutrient['value']\n",
    "            vegetable_nutrient_unit = nutrient['unit']\n",
    "\n",
    "            vegetable_item['nutrient'] = vegetable_nutrient_name\n",
    "            vegetable_item['value'] = vegetable_nutrient_value\n",
    "            vegetable_item['unit'] = vegetable_nutrient_unit\n",
    "\n",
    "            #appending each dictionary to food_items list\n",
    "            food_items.append(vegetable_item)\n",
    "\n",
    "            #  stopping on the 7th nutrient\n",
    "            i = i + 1\n",
    "            if i > 6:\n",
    "                break\n",
    "    #making exception if food doesn't exist\n",
    "    except:\n",
    "        print(\"No food:(\")\n",
    "        \n"
   ]
  },
  {
   "cell_type": "code",
   "execution_count": 39,
   "metadata": {},
   "outputs": [],
   "source": [
    "grains = \"ndbno=28319&ndbno=20062&ndbno=20014&ndbno=20016&ndbno=20044&ndbno=20135&ndbno=20649&ndbno=20091&ndbno=20657&ndbno=20120&ndbno=12147&ndbno=12586&ndbno=12104&ndbno=12155&ndbno=12063&ndbno=20648&ndbno=18017&ndbno=18260&ndbno=18351&ndbno=21611&ndbno=42265&ndbno=42261&ndbno=28326&ndbno=20036\""
   ]
  },
  {
   "cell_type": "code",
   "execution_count": 40,
   "metadata": {},
   "outputs": [],
   "source": [
    "grain_query_url = f\"https://api.nal.usda.gov/ndb/V2/reports?{grains}&type=b&format=json&api_key={API_KEY}\""
   ]
  },
  {
   "cell_type": "code",
   "execution_count": 41,
   "metadata": {},
   "outputs": [],
   "source": [
    "response = requests.get(grain_query_url)\n",
    "response_json = response.json()\n",
    "# print(response_json)"
   ]
  },
  {
   "cell_type": "code",
   "execution_count": 42,
   "metadata": {},
   "outputs": [],
   "source": [
    "# creating output for one record per nutrient per food - GRAINS\n",
    "\n",
    "foods = response_json['foods']\n",
    "\n",
    "#looping through vegetables to extract nutrient information we need\n",
    "for grain in foods:        \n",
    "    try:\n",
    "\n",
    "        i = 0\n",
    "        for nutrient in grain['food']['nutrients']:\n",
    "            # creating dictionary for each nutrient\n",
    "            grain_item = {}\n",
    "            grain_item['category'] = \"Grains\"\n",
    "            grain_item['name'] = grain['food']['desc']['name']\n",
    "            grain_item['id'] = grain['food']['desc']['ndbno']\n",
    "\n",
    "            \n",
    "            grain_nutrient_name = nutrient['name']\n",
    "            grain_nutrient_value = nutrient['value']\n",
    "            grain_nutrient_unit = nutrient['unit']\n",
    "\n",
    "            grain_item['nutrient'] = grain_nutrient_name\n",
    "            grain_item['value'] = grain_nutrient_value\n",
    "            grain_item['unit'] = grain_nutrient_unit\n",
    "            \n",
    "            #appending each dictionary to food_items list\n",
    "            food_items.append(grain_item)\n",
    "            #  stopping on the 7th nutrient\n",
    "            i = i + 1\n",
    "            if i > 6:\n",
    "                break\n",
    "    #making exception if food doesn't exist\n",
    "    except:\n",
    "        print(\"No food:(\")\n",
    "        \n",
    " "
   ]
  },
  {
   "cell_type": "code",
   "execution_count": 43,
   "metadata": {},
   "outputs": [],
   "source": [
    "dairy = \"ndbno=01004&ndbno=01040&ndbno=01132&ndbno=01001&ndbno=01009&ndbno=01053&ndbno=01082&ndbno=01117&ndbno=01287&ndbno=01323&ndbno=01229&ndbno=01145&ndbno=01159&ndbno=01057&ndbno=01077&ndbno=01032&ndbno=01012&ndbno=01015&ndbno=01017&ndbno=01019&ndbno=01026&ndbno=01056&ndbno=01107&ndbno=01252&ndbno=01293\""
   ]
  },
  {
   "cell_type": "code",
   "execution_count": 44,
   "metadata": {},
   "outputs": [],
   "source": [
    "dairy_query_url = f\"https://api.nal.usda.gov/ndb/V2/reports?{dairy}&type=b&format=json&api_key={API_KEY}\""
   ]
  },
  {
   "cell_type": "code",
   "execution_count": 45,
   "metadata": {},
   "outputs": [],
   "source": [
    "response = requests.get(dairy_query_url)\n",
    "response_json = response.json()\n",
    "# print(response_json)"
   ]
  },
  {
   "cell_type": "code",
   "execution_count": 46,
   "metadata": {},
   "outputs": [],
   "source": [
    "# creating output for one record per nutrient per food - DAIRY\n",
    "\n",
    "foods = response_json['foods']\n",
    "\n",
    "#looping through vegetables to extract nutrient information we need\n",
    "for dairy in foods:        \n",
    "    try:\n",
    "\n",
    "        i = 0\n",
    "        for nutrient in dairy['food']['nutrients']:\n",
    "            # creating dictionary for each nutrient\n",
    "            dairy_item = {}\n",
    "            dairy_item['category'] = \"Dairy\"\n",
    "            dairy_item['name'] = dairy['food']['desc']['name']\n",
    "            dairy_item['id'] = dairy['food']['desc']['ndbno']\n",
    "            \n",
    "            dairy_nutrient_name = nutrient['name']\n",
    "            dairy_nutrient_value = nutrient['value']\n",
    "            dairy_nutrient_unit = nutrient['unit']\n",
    "\n",
    "            dairy_item['nutrient'] = dairy_nutrient_name\n",
    "            dairy_item['value'] = dairy_nutrient_value\n",
    "            dairy_item['unit'] = dairy_nutrient_unit\n",
    "            \n",
    "            #appending each dictionary to food_items list\n",
    "            food_items.append(dairy_item)\n",
    "            #  stopping on the 7th nutrient\n",
    "            i = i + 1\n",
    "            if i > 6:\n",
    "                break\n",
    "    #making exception if food doesn't exist\n",
    "    except:\n",
    "        print(\"No food:(\")\n",
    "        \n",
    " "
   ]
  },
  {
   "cell_type": "code",
   "execution_count": 47,
   "metadata": {},
   "outputs": [],
   "source": [
    "meats = \"ndbno=13346&ndbno=22908&ndbno=07073&ndbno=19002&ndbno=07007&ndbno=23090&ndbno=13330&ndbno=13317&ndbno=07068&ndbno=07921&ndbno=13926&ndbno=23136&ndbno=13148&ndbno=07033&ndbno=10153&ndbno=10870&ndbno=15085&ndbno=15084&ndbno=15266&ndbno=15128&ndbno=35157&ndbno=15005&ndbno=15009&ndbno=15017&ndbno=15040\""
   ]
  },
  {
   "cell_type": "code",
   "execution_count": 48,
   "metadata": {},
   "outputs": [],
   "source": [
    "meats_query_url = f\"https://api.nal.usda.gov/ndb/V2/reports?{meats}&type=b&format=json&api_key={API_KEY}\""
   ]
  },
  {
   "cell_type": "code",
   "execution_count": 49,
   "metadata": {},
   "outputs": [],
   "source": [
    "response = requests.get(meats_query_url)\n",
    "response_json = response.json()\n",
    "# print(response_json)"
   ]
  },
  {
   "cell_type": "code",
   "execution_count": 50,
   "metadata": {},
   "outputs": [],
   "source": [
    "# creating output for one record per nutrient per food - DAIRY\n",
    "\n",
    "foods = response_json['foods']\n",
    "\n",
    "#looping through vegetables to extract nutrient information we need\n",
    "for meat in foods:        \n",
    "    try:\n",
    "\n",
    "        i = 0\n",
    "        for nutrient in meat['food']['nutrients']:\n",
    "            # creating dictionary for each nutrient\n",
    "            meat_item = {}\n",
    "            meat_item['category'] = \"Meats\"\n",
    "            meat_item['name'] = meat['food']['desc']['name']\n",
    "            meat_item['id'] = meat['food']['desc']['ndbno']\n",
    "#             print(meat_item['name'])\n",
    "            \n",
    "            meat_nutrient_name = nutrient['name']\n",
    "            meat_nutrient_value = nutrient['value']\n",
    "            meat_nutrient_unit = nutrient['unit']\n",
    "\n",
    "            meat_item['nutrient'] = meat_nutrient_name\n",
    "            meat_item['value'] = meat_nutrient_value\n",
    "            meat_item['unit'] = meat_nutrient_unit\n",
    "            \n",
    "            #appending each dictionary to food_items list\n",
    "            food_items.append(meat_item)\n",
    "            #  stopping on the 7th nutrient\n",
    "            i = i + 1\n",
    "            if i > 6:\n",
    "                break\n",
    "    #making exception if food doesn't exist\n",
    "    except:\n",
    "        print(\"No food:(\")\n",
    "        \n",
    " "
   ]
  },
  {
   "cell_type": "code",
   "execution_count": 57,
   "metadata": {},
   "outputs": [],
   "source": [
    "fruits = \"ndbno=09003&ndbno=09252&ndbno=09236&ndbno=09226&ndbno=09050&ndbno=09316&ndbno=09040&ndbno=09148&ndbno=09200&ndbno=09037&ndbno=09111&ndbno=09131&ndbno=09070&ndbno=09150&ndbno=09176&ndbno=09159&ndbno=09279&ndbno=09326&ndbno=09302\""
   ]
  },
  {
   "cell_type": "code",
   "execution_count": 58,
   "metadata": {},
   "outputs": [],
   "source": [
    "fruits_query_url = f\"https://api.nal.usda.gov/ndb/V2/reports?{fruits}&type=b&format=json&api_key={API_KEY}\""
   ]
  },
  {
   "cell_type": "code",
   "execution_count": 59,
   "metadata": {},
   "outputs": [],
   "source": [
    "response = requests.get(fruits_query_url)\n",
    "response_json = response.json()\n",
    "# print(response_json)"
   ]
  },
  {
   "cell_type": "code",
   "execution_count": 67,
   "metadata": {},
   "outputs": [],
   "source": [
    "# creating output for one record per nutrient per food - DAIRY\n",
    "\n",
    "foods = response_json['foods']\n",
    "\n",
    "#looping through vegetables to extract nutrient information we need\n",
    "for fruit in foods:\n",
    "    try:\n",
    "\n",
    "        i = 0\n",
    "        for nutrient in fruit['food']['nutrients']:\n",
    "            # creating dictionary for each nutrient\n",
    "            fruit_item = {}\n",
    "            fruit_item['category'] = \"Fruits\"\n",
    "            fruit_item['name'] = fruit['food']['desc']['name']\n",
    "            fruit_item['id'] = fruit['food']['desc']['ndbno']\n",
    "            \n",
    "            fruit_nutrient_name = nutrient['name']\n",
    "            fruit_nutrient_value = nutrient['value']\n",
    "            fruit_nutrient_unit = nutrient['unit']\n",
    "\n",
    "            fruit_item['nutrient'] = fruit_nutrient_name\n",
    "            fruit_item['value'] = fruit_nutrient_value\n",
    "            fruit_item['unit'] = fruit_nutrient_unit\n",
    "            \n",
    "            #appending each dictionary to food_items list\n",
    "            food_items.append(fruit_item)\n",
    "            #  stopping on the 7th nutrient\n",
    "            i = i + 1\n",
    "            if i > 6:\n",
    "                break\n",
    "    #making exception if food doesn't exist\n",
    "    except:\n",
    "        print(\"No food:(\")\n",
    "        "
   ]
  },
  {
   "cell_type": "code",
   "execution_count": 88,
   "metadata": {},
   "outputs": [],
   "source": [
    "# food_items\n",
    "# food_items[1001][\"name\"]\n"
   ]
  },
  {
   "cell_type": "code",
   "execution_count": 335,
   "metadata": {},
   "outputs": [
    {
     "data": {
      "text/plain": [
       "'Beets, raw'"
      ]
     },
     "execution_count": 335,
     "metadata": {},
     "output_type": "execute_result"
    }
   ],
   "source": [
    "response_json[\"foods\"][1][\"food\"][\"desc\"][\"name\"]\n",
    "# response_json[\"foods\"][0][\"food\"][\"nutrients\"][2][\"name\"]\n",
    "# response_json[\"foods\"][0][\"food\"][\"nutrients\"][3][\"unit\"]\n",
    "# response_json[\"foods\"][0][\"food\"][\"nutrients\"][0][\"value\"]"
   ]
  }
 ],
 "metadata": {
  "kernelspec": {
   "display_name": "Python 3",
   "language": "python",
   "name": "python3"
  },
  "language_info": {
   "codemirror_mode": {
    "name": "ipython",
    "version": 3
   },
   "file_extension": ".py",
   "mimetype": "text/x-python",
   "name": "python",
   "nbconvert_exporter": "python",
   "pygments_lexer": "ipython3",
   "version": "3.6.6"
  }
 },
 "nbformat": 4,
 "nbformat_minor": 2
}
